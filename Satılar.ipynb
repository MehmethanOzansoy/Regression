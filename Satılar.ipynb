{
 "cells": [
  {
   "cell_type": "code",
   "execution_count": 3,
   "id": "350e2fad",
   "metadata": {},
   "outputs": [],
   "source": [
    "import numpy as np\n",
    "import pandas as pd\n",
    "import matplotlib.pyplot as plt\n",
    "from sklearn.linear_model import LinearRegression\n",
    "from sklearn.metrics import mean_absolute_error,r2_score"
   ]
  },
  {
   "cell_type": "code",
   "execution_count": 9,
   "id": "67f71b7c",
   "metadata": {},
   "outputs": [],
   "source": [
    "satislar = np.array([22,15,78,66,44,65,78,22])\n",
    "reklam_gider = np.array([7,11,15,26,28,31,7,16])"
   ]
  },
  {
   "cell_type": "code",
   "execution_count": 23,
   "id": "98eec30a",
   "metadata": {},
   "outputs": [],
   "source": [
    "df = pd.DataFrame({'satışlar' : satislar , 'reklam_gideri' : reklam_gider })"
   ]
  },
  {
   "cell_type": "code",
   "execution_count": 24,
   "id": "afffbf0d",
   "metadata": {},
   "outputs": [
    {
     "data": {
      "text/html": [
       "<div>\n",
       "<style scoped>\n",
       "    .dataframe tbody tr th:only-of-type {\n",
       "        vertical-align: middle;\n",
       "    }\n",
       "\n",
       "    .dataframe tbody tr th {\n",
       "        vertical-align: top;\n",
       "    }\n",
       "\n",
       "    .dataframe thead th {\n",
       "        text-align: right;\n",
       "    }\n",
       "</style>\n",
       "<table border=\"1\" class=\"dataframe\">\n",
       "  <thead>\n",
       "    <tr style=\"text-align: right;\">\n",
       "      <th></th>\n",
       "      <th>satışlar</th>\n",
       "      <th>reklam_gideri</th>\n",
       "    </tr>\n",
       "  </thead>\n",
       "  <tbody>\n",
       "    <tr>\n",
       "      <th>0</th>\n",
       "      <td>22</td>\n",
       "      <td>7</td>\n",
       "    </tr>\n",
       "    <tr>\n",
       "      <th>1</th>\n",
       "      <td>15</td>\n",
       "      <td>11</td>\n",
       "    </tr>\n",
       "    <tr>\n",
       "      <th>2</th>\n",
       "      <td>78</td>\n",
       "      <td>15</td>\n",
       "    </tr>\n",
       "    <tr>\n",
       "      <th>3</th>\n",
       "      <td>66</td>\n",
       "      <td>26</td>\n",
       "    </tr>\n",
       "    <tr>\n",
       "      <th>4</th>\n",
       "      <td>44</td>\n",
       "      <td>28</td>\n",
       "    </tr>\n",
       "  </tbody>\n",
       "</table>\n",
       "</div>"
      ],
      "text/plain": [
       "   satışlar  reklam_gideri\n",
       "0        22              7\n",
       "1        15             11\n",
       "2        78             15\n",
       "3        66             26\n",
       "4        44             28"
      ]
     },
     "execution_count": 24,
     "metadata": {},
     "output_type": "execute_result"
    }
   ],
   "source": [
    "df.head()"
   ]
  },
  {
   "cell_type": "code",
   "execution_count": 28,
   "id": "a4bac8be",
   "metadata": {},
   "outputs": [],
   "source": [
    "yillar = [str(x+2000) for x in range(8)]"
   ]
  },
  {
   "cell_type": "code",
   "execution_count": 29,
   "id": "90ea82c2",
   "metadata": {},
   "outputs": [
    {
     "data": {
      "text/plain": [
       "['2000', '2001', '2002', '2003', '2004', '2005', '2006', '2007']"
      ]
     },
     "execution_count": 29,
     "metadata": {},
     "output_type": "execute_result"
    }
   ],
   "source": [
    "yillar"
   ]
  },
  {
   "cell_type": "code",
   "execution_count": 30,
   "id": "9e508865",
   "metadata": {},
   "outputs": [],
   "source": [
    "df.index = yillar"
   ]
  },
  {
   "cell_type": "code",
   "execution_count": 31,
   "id": "f1bb70be",
   "metadata": {},
   "outputs": [
    {
     "data": {
      "text/html": [
       "<div>\n",
       "<style scoped>\n",
       "    .dataframe tbody tr th:only-of-type {\n",
       "        vertical-align: middle;\n",
       "    }\n",
       "\n",
       "    .dataframe tbody tr th {\n",
       "        vertical-align: top;\n",
       "    }\n",
       "\n",
       "    .dataframe thead th {\n",
       "        text-align: right;\n",
       "    }\n",
       "</style>\n",
       "<table border=\"1\" class=\"dataframe\">\n",
       "  <thead>\n",
       "    <tr style=\"text-align: right;\">\n",
       "      <th></th>\n",
       "      <th>satışlar</th>\n",
       "      <th>reklam_gideri</th>\n",
       "    </tr>\n",
       "  </thead>\n",
       "  <tbody>\n",
       "    <tr>\n",
       "      <th>2000</th>\n",
       "      <td>22</td>\n",
       "      <td>7</td>\n",
       "    </tr>\n",
       "    <tr>\n",
       "      <th>2001</th>\n",
       "      <td>15</td>\n",
       "      <td>11</td>\n",
       "    </tr>\n",
       "    <tr>\n",
       "      <th>2002</th>\n",
       "      <td>78</td>\n",
       "      <td>15</td>\n",
       "    </tr>\n",
       "    <tr>\n",
       "      <th>2003</th>\n",
       "      <td>66</td>\n",
       "      <td>26</td>\n",
       "    </tr>\n",
       "    <tr>\n",
       "      <th>2004</th>\n",
       "      <td>44</td>\n",
       "      <td>28</td>\n",
       "    </tr>\n",
       "  </tbody>\n",
       "</table>\n",
       "</div>"
      ],
      "text/plain": [
       "      satışlar  reklam_gideri\n",
       "2000        22              7\n",
       "2001        15             11\n",
       "2002        78             15\n",
       "2003        66             26\n",
       "2004        44             28"
      ]
     },
     "execution_count": 31,
     "metadata": {},
     "output_type": "execute_result"
    }
   ],
   "source": [
    "df.head()"
   ]
  },
  {
   "cell_type": "code",
   "execution_count": 35,
   "id": "6593f0a5",
   "metadata": {},
   "outputs": [
    {
     "data": {
      "text/plain": [
       "[<matplotlib.lines.Line2D at 0x1f7f96796a0>]"
      ]
     },
     "execution_count": 35,
     "metadata": {},
     "output_type": "execute_result"
    },
    {
     "data": {
      "image/png": "[encoded data removed]",
      "text/plain": [
       "<Figure size 432x288 with 1 Axes>"
      ]
     },
     "metadata": {
      "needs_background": "light"
     },
     "output_type": "display_data"
    }
   ],
   "source": [
    "plt.scatter(x=reklam_gider,y = satislar)\n",
    "plt.plot(reklam_gider,reklam_gider*5 + 3)"
   ]
  },
  {
   "cell_type": "code",
   "execution_count": 38,
   "id": "7663c6ae",
   "metadata": {},
   "outputs": [
    {
     "data": {
      "text/plain": [
       "[<matplotlib.lines.Line2D at 0x1f7f9745910>]"
      ]
     },
     "execution_count": 38,
     "metadata": {},
     "output_type": "execute_result"
    },
    {
     "data": {
      "image/png": "[encoded data removed]",
      "text/plain": [
       "<Figure size 432x288 with 1 Axes>"
      ]
     },
     "metadata": {
      "needs_background": "light"
     },
     "output_type": "display_data"
    }
   ],
   "source": [
    "plt.scatter(x = reklam_gider,y = satislar )\n",
    "plt.plot(reklam_gider,reklam_gider*1 + 3 ,color = 'red')"
   ]
  },
  {
   "cell_type": "code",
   "execution_count": 41,
   "id": "f6f4f7f5",
   "metadata": {},
   "outputs": [],
   "source": [
    "linear_model = LinearRegression()\n"
   ]
  },
  {
   "cell_type": "code",
   "execution_count": 43,
   "id": "27be5398",
   "metadata": {},
   "outputs": [],
   "source": [
    "reklam_gider = reklam_gider.reshape(-1,1)"
   ]
  },
  {
   "cell_type": "code",
   "execution_count": 44,
   "id": "f3051104",
   "metadata": {},
   "outputs": [
    {
     "data": {
      "text/plain": [
       "LinearRegression()"
      ]
     },
     "execution_count": 44,
     "metadata": {},
     "output_type": "execute_result"
    }
   ],
   "source": [
    "linear_model.fit(X=reklam_gider,y=satislar)"
   ]
  },
  {
   "cell_type": "code",
   "execution_count": 46,
   "id": "6223297c",
   "metadata": {},
   "outputs": [
    {
     "data": {
      "text/plain": [
       "array([0.74896796])"
      ]
     },
     "execution_count": 46,
     "metadata": {},
     "output_type": "execute_result"
    }
   ],
   "source": [
    "linear_model.coef_"
   ]
  },
  {
   "cell_type": "code",
   "execution_count": 47,
   "id": "d1b38747",
   "metadata": {},
   "outputs": [
    {
     "data": {
      "text/plain": [
       "35.54943974837823"
      ]
     },
     "execution_count": 47,
     "metadata": {},
     "output_type": "execute_result"
    }
   ],
   "source": [
    "linear_model.intercept_"
   ]
  },
  {
   "cell_type": "code",
   "execution_count": 49,
   "id": "022eae9f",
   "metadata": {},
   "outputs": [
    {
     "name": "stdout",
     "output_type": "stream",
     "text": [
      "beta_0 = 35.54943974837823,beta_1 = 0.7489679575388241\n"
     ]
    }
   ],
   "source": [
    "print(\"beta_0 = {},beta_1 = {}\".format(linear_model.intercept_,linear_model.coef_[0]))"
   ]
  },
  {
   "cell_type": "code",
   "execution_count": 50,
   "id": "95bb41d4",
   "metadata": {},
   "outputs": [
    {
     "data": {
      "text/plain": [
       "0.07331127114949443"
      ]
     },
     "execution_count": 50,
     "metadata": {},
     "output_type": "execute_result"
    }
   ],
   "source": [
    "linear_model.score(X=reklam_gider,y=satislar)"
   ]
  },
  {
   "cell_type": "code",
   "execution_count": 54,
   "id": "639a8512",
   "metadata": {},
   "outputs": [],
   "source": [
    "tahmin = linear_model.predict(reklam_gider)"
   ]
  },
  {
   "cell_type": "code",
   "execution_count": 52,
   "id": "52378de8",
   "metadata": {},
   "outputs": [
    {
     "data": {
      "text/plain": [
       "array([40.79221545, 43.78808728, 46.78395911, 55.02260664, 56.52054256,\n",
       "       58.76744643, 40.79221545, 47.53292707])"
      ]
     },
     "execution_count": 52,
     "metadata": {},
     "output_type": "execute_result"
    }
   ],
   "source": [
    "tahmin"
   ]
  },
  {
   "cell_type": "code",
   "execution_count": 55,
   "id": "1ca49893",
   "metadata": {},
   "outputs": [],
   "source": [
    "error = satislar - tahmin"
   ]
  },
  {
   "cell_type": "code",
   "execution_count": 56,
   "id": "566251c1",
   "metadata": {},
   "outputs": [
    {
     "data": {
      "text/plain": [
       "array([-18.79221545, -28.78808728,  31.21604089,  10.97739336,\n",
       "       -12.52054256,   6.23255357,  37.20778455, -25.53292707])"
      ]
     },
     "execution_count": 56,
     "metadata": {},
     "output_type": "execute_result"
    }
   ],
   "source": [
    "error"
   ]
  },
  {
   "cell_type": "code",
   "execution_count": 58,
   "id": "d352677a",
   "metadata": {},
   "outputs": [
    {
     "data": {
      "text/plain": [
       "0.0"
      ]
     },
     "execution_count": 58,
     "metadata": {},
     "output_type": "execute_result"
    }
   ],
   "source": [
    "error.sum()"
   ]
  },
  {
   "cell_type": "code",
   "execution_count": 59,
   "id": "caec03d9",
   "metadata": {},
   "outputs": [],
   "source": [
    "hatalar_karesi = np.square(error)"
   ]
  },
  {
   "cell_type": "code",
   "execution_count": 60,
   "id": "60af5e14",
   "metadata": {},
   "outputs": [
    {
     "data": {
      "text/plain": [
       "array([ 353.14736156,  828.75396932,  974.44120875,  120.50316488,\n",
       "        156.76398598,   38.84472398, 1384.41923103,  651.93036471])"
      ]
     },
     "execution_count": 60,
     "metadata": {},
     "output_type": "execute_result"
    }
   ],
   "source": [
    "hatalar_karesi"
   ]
  },
  {
   "cell_type": "code",
   "execution_count": null,
   "id": "847d62e7",
   "metadata": {},
   "outputs": [],
   "source": []
  },
  {
   "cell_type": "code",
   "execution_count": 70,
   "id": "5071b356",
   "metadata": {},
   "outputs": [
    {
     "data": {
      "text/plain": [
       "Text(0.5, 1.0, 'Satıs ve Reklam Gelirleri')"
      ]
     },
     "execution_count": 70,
     "metadata": {},
     "output_type": "execute_result"
    },
    {
     "data": {
      "image/png": "[encoded data removed]",
      "text/plain": [
       "<Figure size 432x288 with 1 Axes>"
      ]
     },
     "metadata": {
      "needs_background": "light"
     },
     "output_type": "display_data"
    }
   ],
   "source": [
    "plt.plot(tahmin,label = \"Tahmini Değerler\")\n",
    "plt.plot(satislar,label = \"Gerçek Değerler\" , marker = 'o')\n",
    "plt.legend()\n",
    "plt.xlabel('x')\n",
    "plt.ylabel('y')\n",
    "plt.title(\"Satıs ve Reklam Gelirleri\")"
   ]
  },
  {
   "cell_type": "code",
   "execution_count": 72,
   "id": "144704bc",
   "metadata": {},
   "outputs": [
    {
     "data": {
      "text/plain": [
       "Text(0, 0.5, 'Satış Rakamları')"
      ]
     },
     "execution_count": 72,
     "metadata": {},
     "output_type": "execute_result"
    },
    {
     "data": {
      "image/png": "[encoded data removed]",
      "text/plain": [
       "<Figure size 432x288 with 1 Axes>"
      ]
     },
     "metadata": {
      "needs_background": "light"
     },
     "output_type": "display_data"
    }
   ],
   "source": [
    "plt.scatter(x=reklam_gider,y=satislar)\n",
    "plt.plot(reklam_gider,reklam_gider*linear_model.coef_[0],linear_model.intercept_,color='blue')\n",
    "plt.xlabel(\"Reklam Giderleri\")\n",
    "plt.ylabel(\"Satış Rakamları\")"
   ]
  },
  {
   "cell_type": "code",
   "execution_count": null,
   "id": "5ba8a842",
   "metadata": {},
   "outputs": [],
   "source": []
  }
 ],
 "metadata": {
  "kernelspec": {
   "display_name": "Python 3 (ipykernel)",
   "language": "python",
   "name": "python3"
  },
  "language_info": {
   "codemirror_mode": {
    "name": "ipython",
    "version": 3
   },
   "file_extension": ".py",
   "mimetype": "text/x-python",
   "name": "python",
   "nbconvert_exporter": "python",
   "pygments_lexer": "ipython3",
   "version": "3.9.7"
  }
 },
 "nbformat": 4,
 "nbformat_minor": 5
}
